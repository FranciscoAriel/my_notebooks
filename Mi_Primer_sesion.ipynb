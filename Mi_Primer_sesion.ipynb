{
 "cells": [
  {
   "cell_type": "markdown",
   "source": [
    "# Ejemplo patito"
   ],
   "metadata": {}
  },
  {
   "cell_type": "markdown",
   "source": [
    "Al iniciar sesión, se deben de cargar las librerías necesarias."
   ],
   "metadata": {}
  },
  {
   "cell_type": "code",
   "execution_count": 2,
   "source": [
    "import pandas as pd\r\n",
    "import numpy as np\r\n",
    "import os"
   ],
   "outputs": [],
   "metadata": {}
  },
  {
   "cell_type": "markdown",
   "source": [
    "Para visualizar el directorio de trabajo se ejecuta la siguiente instrucción:"
   ],
   "metadata": {}
  },
  {
   "cell_type": "code",
   "execution_count": 3,
   "source": [
    "root=os.getcwd()\r\n",
    "print(root)"
   ],
   "outputs": [
    {
     "output_type": "stream",
     "name": "stdout",
     "text": [
      "c:\\Users\\Francisco\n"
     ]
    }
   ],
   "metadata": {}
  },
  {
   "cell_type": "markdown",
   "source": [
    "Para leer el archivo csv, se usa el siguiente comando:"
   ],
   "metadata": {}
  },
  {
   "cell_type": "code",
   "execution_count": 4,
   "source": [
    "datos = pd.read_csv(\"fake_db.csv\")"
   ],
   "outputs": [],
   "metadata": {}
  },
  {
   "cell_type": "markdown",
   "source": [
    "Se puede ver la información del dataframe:"
   ],
   "metadata": {}
  },
  {
   "cell_type": "code",
   "execution_count": 5,
   "source": [
    "datos.info()"
   ],
   "outputs": [
    {
     "output_type": "stream",
     "name": "stdout",
     "text": [
      "<class 'pandas.core.frame.DataFrame'>\n",
      "RangeIndex: 100000 entries, 0 to 99999\n",
      "Data columns (total 45 columns):\n",
      "Number                  100000 non-null int64\n",
      "Gender                  100000 non-null object\n",
      "NameSet                 100000 non-null object\n",
      "Title                   100000 non-null object\n",
      "GivenName               100000 non-null object\n",
      "MiddleInitial           100000 non-null object\n",
      "Surname                 100000 non-null object\n",
      "StreetAddress           100000 non-null object\n",
      "City                    100000 non-null object\n",
      "State                   97905 non-null object\n",
      "StateFull               100000 non-null object\n",
      "ZipCode                 100000 non-null int64\n",
      "Country                 100000 non-null object\n",
      "CountryFull             100000 non-null object\n",
      "EmailAddress            100000 non-null object\n",
      "Username                100000 non-null object\n",
      "Password                100000 non-null object\n",
      "BrowserUserAgent        100000 non-null object\n",
      "TelephoneNumber         100000 non-null object\n",
      "TelephoneCountryCode    100000 non-null int64\n",
      "MothersMaiden           100000 non-null object\n",
      "Birthday                100000 non-null object\n",
      "Age                     100000 non-null int64\n",
      "TropicalZodiac          100000 non-null object\n",
      "CCType                  100000 non-null object\n",
      "CCNumber                100000 non-null int64\n",
      "CVV2                    100000 non-null int64\n",
      "CCExpires               100000 non-null object\n",
      "NationalID              0 non-null float64\n",
      "UPS                     100000 non-null object\n",
      "WesternUnionMTCN        100000 non-null int64\n",
      "MoneyGramMTCN           100000 non-null int64\n",
      "Color                   100000 non-null object\n",
      "Occupation              100000 non-null object\n",
      "Company                 99902 non-null object\n",
      "Vehicle                 100000 non-null object\n",
      "Domain                  100000 non-null object\n",
      "BloodType               100000 non-null object\n",
      "Pounds                  100000 non-null float64\n",
      "Kilograms               100000 non-null float64\n",
      "FeetInches              100000 non-null object\n",
      "Centimeters             100000 non-null int64\n",
      "GUID                    100000 non-null object\n",
      "Latitude                100000 non-null float64\n",
      "Longitude               100000 non-null float64\n",
      "dtypes: float64(5), int64(9), object(31)\n",
      "memory usage: 34.3+ MB\n"
     ]
    }
   ],
   "metadata": {}
  },
  {
   "cell_type": "markdown",
   "source": [
    "o tambien se pueden ver estadísticas descriptivas con:"
   ],
   "metadata": {}
  },
  {
   "cell_type": "code",
   "execution_count": 6,
   "source": [
    "datos.describe()"
   ],
   "outputs": [
    {
     "output_type": "execute_result",
     "data": {
      "text/html": [
       "<div>\n",
       "<style scoped>\n",
       "    .dataframe tbody tr th:only-of-type {\n",
       "        vertical-align: middle;\n",
       "    }\n",
       "\n",
       "    .dataframe tbody tr th {\n",
       "        vertical-align: top;\n",
       "    }\n",
       "\n",
       "    .dataframe thead th {\n",
       "        text-align: right;\n",
       "    }\n",
       "</style>\n",
       "<table border=\"1\" class=\"dataframe\">\n",
       "  <thead>\n",
       "    <tr style=\"text-align: right;\">\n",
       "      <th></th>\n",
       "      <th>Number</th>\n",
       "      <th>ZipCode</th>\n",
       "      <th>TelephoneCountryCode</th>\n",
       "      <th>Age</th>\n",
       "      <th>CCNumber</th>\n",
       "      <th>CVV2</th>\n",
       "      <th>NationalID</th>\n",
       "      <th>WesternUnionMTCN</th>\n",
       "      <th>MoneyGramMTCN</th>\n",
       "      <th>Pounds</th>\n",
       "      <th>Kilograms</th>\n",
       "      <th>Centimeters</th>\n",
       "      <th>Latitude</th>\n",
       "      <th>Longitude</th>\n",
       "    </tr>\n",
       "  </thead>\n",
       "  <tbody>\n",
       "    <tr>\n",
       "      <th>count</th>\n",
       "      <td>100000.000000</td>\n",
       "      <td>100000.000000</td>\n",
       "      <td>100000.0</td>\n",
       "      <td>100000.00000</td>\n",
       "      <td>1.000000e+05</td>\n",
       "      <td>100000.000000</td>\n",
       "      <td>0.0</td>\n",
       "      <td>1.000000e+05</td>\n",
       "      <td>1.000000e+05</td>\n",
       "      <td>100000.000000</td>\n",
       "      <td>100000.000000</td>\n",
       "      <td>100000.000000</td>\n",
       "      <td>100000.000000</td>\n",
       "      <td>100000.000000</td>\n",
       "    </tr>\n",
       "    <tr>\n",
       "      <th>mean</th>\n",
       "      <td>50000.500000</td>\n",
       "      <td>25994.095130</td>\n",
       "      <td>34.0</td>\n",
       "      <td>49.08559</td>\n",
       "      <td>5.010720e+15</td>\n",
       "      <td>500.502650</td>\n",
       "      <td>NaN</td>\n",
       "      <td>5.008318e+09</td>\n",
       "      <td>4.997022e+07</td>\n",
       "      <td>179.295824</td>\n",
       "      <td>81.498131</td>\n",
       "      <td>169.959770</td>\n",
       "      <td>40.066001</td>\n",
       "      <td>-3.806679</td>\n",
       "    </tr>\n",
       "    <tr>\n",
       "      <th>std</th>\n",
       "      <td>28867.657797</td>\n",
       "      <td>13713.588818</td>\n",
       "      <td>0.0</td>\n",
       "      <td>17.61275</td>\n",
       "      <td>3.769173e+14</td>\n",
       "      <td>288.355082</td>\n",
       "      <td>NaN</td>\n",
       "      <td>2.887926e+09</td>\n",
       "      <td>2.892508e+07</td>\n",
       "      <td>35.888941</td>\n",
       "      <td>16.313050</td>\n",
       "      <td>9.562908</td>\n",
       "      <td>2.783062</td>\n",
       "      <td>3.624194</td>\n",
       "    </tr>\n",
       "    <tr>\n",
       "      <th>min</th>\n",
       "      <td>1.000000</td>\n",
       "      <td>1000.000000</td>\n",
       "      <td>34.0</td>\n",
       "      <td>19.00000</td>\n",
       "      <td>4.485000e+15</td>\n",
       "      <td>1.000000</td>\n",
       "      <td>NaN</td>\n",
       "      <td>5.562600e+04</td>\n",
       "      <td>2.986000e+03</td>\n",
       "      <td>96.800000</td>\n",
       "      <td>44.000000</td>\n",
       "      <td>150.000000</td>\n",
       "      <td>27.679102</td>\n",
       "      <td>-83.490253</td>\n",
       "    </tr>\n",
       "    <tr>\n",
       "      <th>25%</th>\n",
       "      <td>25000.750000</td>\n",
       "      <td>14260.000000</td>\n",
       "      <td>34.0</td>\n",
       "      <td>34.00000</td>\n",
       "      <td>4.556511e+15</td>\n",
       "      <td>252.000000</td>\n",
       "      <td>NaN</td>\n",
       "      <td>2.503532e+09</td>\n",
       "      <td>2.483156e+07</td>\n",
       "      <td>150.700000</td>\n",
       "      <td>68.500000</td>\n",
       "      <td>163.000000</td>\n",
       "      <td>38.308081</td>\n",
       "      <td>-5.795822</td>\n",
       "    </tr>\n",
       "    <tr>\n",
       "      <th>50%</th>\n",
       "      <td>50000.500000</td>\n",
       "      <td>27325.000000</td>\n",
       "      <td>34.0</td>\n",
       "      <td>49.00000</td>\n",
       "      <td>5.102525e+15</td>\n",
       "      <td>501.000000</td>\n",
       "      <td>NaN</td>\n",
       "      <td>5.013853e+09</td>\n",
       "      <td>4.991556e+07</td>\n",
       "      <td>179.500000</td>\n",
       "      <td>81.600000</td>\n",
       "      <td>170.000000</td>\n",
       "      <td>40.615779</td>\n",
       "      <td>-3.589648</td>\n",
       "    </tr>\n",
       "    <tr>\n",
       "      <th>75%</th>\n",
       "      <td>75000.250000</td>\n",
       "      <td>37420.000000</td>\n",
       "      <td>34.0</td>\n",
       "      <td>64.00000</td>\n",
       "      <td>5.352728e+15</td>\n",
       "      <td>750.000000</td>\n",
       "      <td>NaN</td>\n",
       "      <td>7.499894e+09</td>\n",
       "      <td>7.504225e+07</td>\n",
       "      <td>208.600000</td>\n",
       "      <td>94.800000</td>\n",
       "      <td>177.000000</td>\n",
       "      <td>42.187375</td>\n",
       "      <td>-1.802417</td>\n",
       "    </tr>\n",
       "    <tr>\n",
       "      <th>max</th>\n",
       "      <td>100000.000000</td>\n",
       "      <td>52000.000000</td>\n",
       "      <td>34.0</td>\n",
       "      <td>79.00000</td>\n",
       "      <td>5.599993e+15</td>\n",
       "      <td>999.000000</td>\n",
       "      <td>NaN</td>\n",
       "      <td>9.999543e+09</td>\n",
       "      <td>9.999905e+07</td>\n",
       "      <td>257.400000</td>\n",
       "      <td>117.000000</td>\n",
       "      <td>190.000000</td>\n",
       "      <td>43.860774</td>\n",
       "      <td>12.663126</td>\n",
       "    </tr>\n",
       "  </tbody>\n",
       "</table>\n",
       "</div>"
      ],
      "text/plain": [
       "              Number        ZipCode  TelephoneCountryCode           Age  \\\n",
       "count  100000.000000  100000.000000              100000.0  100000.00000   \n",
       "mean    50000.500000   25994.095130                  34.0      49.08559   \n",
       "std     28867.657797   13713.588818                   0.0      17.61275   \n",
       "min         1.000000    1000.000000                  34.0      19.00000   \n",
       "25%     25000.750000   14260.000000                  34.0      34.00000   \n",
       "50%     50000.500000   27325.000000                  34.0      49.00000   \n",
       "75%     75000.250000   37420.000000                  34.0      64.00000   \n",
       "max    100000.000000   52000.000000                  34.0      79.00000   \n",
       "\n",
       "           CCNumber           CVV2  NationalID  WesternUnionMTCN  \\\n",
       "count  1.000000e+05  100000.000000         0.0      1.000000e+05   \n",
       "mean   5.010720e+15     500.502650         NaN      5.008318e+09   \n",
       "std    3.769173e+14     288.355082         NaN      2.887926e+09   \n",
       "min    4.485000e+15       1.000000         NaN      5.562600e+04   \n",
       "25%    4.556511e+15     252.000000         NaN      2.503532e+09   \n",
       "50%    5.102525e+15     501.000000         NaN      5.013853e+09   \n",
       "75%    5.352728e+15     750.000000         NaN      7.499894e+09   \n",
       "max    5.599993e+15     999.000000         NaN      9.999543e+09   \n",
       "\n",
       "       MoneyGramMTCN         Pounds      Kilograms    Centimeters  \\\n",
       "count   1.000000e+05  100000.000000  100000.000000  100000.000000   \n",
       "mean    4.997022e+07     179.295824      81.498131     169.959770   \n",
       "std     2.892508e+07      35.888941      16.313050       9.562908   \n",
       "min     2.986000e+03      96.800000      44.000000     150.000000   \n",
       "25%     2.483156e+07     150.700000      68.500000     163.000000   \n",
       "50%     4.991556e+07     179.500000      81.600000     170.000000   \n",
       "75%     7.504225e+07     208.600000      94.800000     177.000000   \n",
       "max     9.999905e+07     257.400000     117.000000     190.000000   \n",
       "\n",
       "            Latitude      Longitude  \n",
       "count  100000.000000  100000.000000  \n",
       "mean       40.066001      -3.806679  \n",
       "std         2.783062       3.624194  \n",
       "min        27.679102     -83.490253  \n",
       "25%        38.308081      -5.795822  \n",
       "50%        40.615779      -3.589648  \n",
       "75%        42.187375      -1.802417  \n",
       "max        43.860774      12.663126  "
      ]
     },
     "metadata": {},
     "execution_count": 6
    }
   ],
   "metadata": {}
  },
  {
   "cell_type": "markdown",
   "source": [
    "Para visualizar los 5 primeros registros:"
   ],
   "metadata": {}
  },
  {
   "cell_type": "code",
   "execution_count": 7,
   "source": [
    "datos.head(n=5)"
   ],
   "outputs": [
    {
     "output_type": "execute_result",
     "data": {
      "text/html": [
       "<div>\n",
       "<style scoped>\n",
       "    .dataframe tbody tr th:only-of-type {\n",
       "        vertical-align: middle;\n",
       "    }\n",
       "\n",
       "    .dataframe tbody tr th {\n",
       "        vertical-align: top;\n",
       "    }\n",
       "\n",
       "    .dataframe thead th {\n",
       "        text-align: right;\n",
       "    }\n",
       "</style>\n",
       "<table border=\"1\" class=\"dataframe\">\n",
       "  <thead>\n",
       "    <tr style=\"text-align: right;\">\n",
       "      <th></th>\n",
       "      <th>Number</th>\n",
       "      <th>Gender</th>\n",
       "      <th>NameSet</th>\n",
       "      <th>Title</th>\n",
       "      <th>GivenName</th>\n",
       "      <th>MiddleInitial</th>\n",
       "      <th>Surname</th>\n",
       "      <th>StreetAddress</th>\n",
       "      <th>City</th>\n",
       "      <th>State</th>\n",
       "      <th>...</th>\n",
       "      <th>Vehicle</th>\n",
       "      <th>Domain</th>\n",
       "      <th>BloodType</th>\n",
       "      <th>Pounds</th>\n",
       "      <th>Kilograms</th>\n",
       "      <th>FeetInches</th>\n",
       "      <th>Centimeters</th>\n",
       "      <th>GUID</th>\n",
       "      <th>Latitude</th>\n",
       "      <th>Longitude</th>\n",
       "    </tr>\n",
       "  </thead>\n",
       "  <tbody>\n",
       "    <tr>\n",
       "      <th>0</th>\n",
       "      <td>1</td>\n",
       "      <td>male</td>\n",
       "      <td>Hispanic</td>\n",
       "      <td>Mr.</td>\n",
       "      <td>Ezio</td>\n",
       "      <td>S</td>\n",
       "      <td>Vanegas</td>\n",
       "      <td>Ventanilla de Beas 48</td>\n",
       "      <td>Alfoz</td>\n",
       "      <td>LU</td>\n",
       "      <td>...</td>\n",
       "      <td>2002 Vauxhall Agila</td>\n",
       "      <td>ParadeBlog.es</td>\n",
       "      <td>B+</td>\n",
       "      <td>150.0</td>\n",
       "      <td>68.2</td>\n",
       "      <td>5' 5\"</td>\n",
       "      <td>165</td>\n",
       "      <td>256e636c-da1f-43e4-826c-1e63def9b541</td>\n",
       "      <td>43.423958</td>\n",
       "      <td>-7.303852</td>\n",
       "    </tr>\n",
       "    <tr>\n",
       "      <th>1</th>\n",
       "      <td>2</td>\n",
       "      <td>female</td>\n",
       "      <td>Hispanic</td>\n",
       "      <td>Ms.</td>\n",
       "      <td>Katharina</td>\n",
       "      <td>J</td>\n",
       "      <td>Reséndez</td>\n",
       "      <td>C/ Rosa de los Vientos 29</td>\n",
       "      <td>Alcalá de los Gazules</td>\n",
       "      <td>CA</td>\n",
       "      <td>...</td>\n",
       "      <td>2008 Ford F-450</td>\n",
       "      <td>EyeTint.es</td>\n",
       "      <td>B-</td>\n",
       "      <td>159.9</td>\n",
       "      <td>72.7</td>\n",
       "      <td>5' 5\"</td>\n",
       "      <td>165</td>\n",
       "      <td>6569389e-63f3-4009-a138-647a449b47a3</td>\n",
       "      <td>36.322712</td>\n",
       "      <td>-6.161728</td>\n",
       "    </tr>\n",
       "    <tr>\n",
       "      <th>2</th>\n",
       "      <td>3</td>\n",
       "      <td>female</td>\n",
       "      <td>Hispanic</td>\n",
       "      <td>Dr.</td>\n",
       "      <td>Tamara</td>\n",
       "      <td>K</td>\n",
       "      <td>Monroy</td>\n",
       "      <td>Plazuela do Porto 75</td>\n",
       "      <td>El Sauzal</td>\n",
       "      <td>TF</td>\n",
       "      <td>...</td>\n",
       "      <td>2005 Honda Fit</td>\n",
       "      <td>StyleValuation.es</td>\n",
       "      <td>B+</td>\n",
       "      <td>159.3</td>\n",
       "      <td>72.4</td>\n",
       "      <td>5' 3\"</td>\n",
       "      <td>161</td>\n",
       "      <td>b2269aa2-6178-4b29-9347-0c04ff7c6249</td>\n",
       "      <td>28.414627</td>\n",
       "      <td>-16.373429</td>\n",
       "    </tr>\n",
       "    <tr>\n",
       "      <th>3</th>\n",
       "      <td>4</td>\n",
       "      <td>male</td>\n",
       "      <td>Hispanic</td>\n",
       "      <td>Mr.</td>\n",
       "      <td>Dunstano</td>\n",
       "      <td>E</td>\n",
       "      <td>Armendáriz</td>\n",
       "      <td>Plaza de España 57</td>\n",
       "      <td>Tordoia</td>\n",
       "      <td>C</td>\n",
       "      <td>...</td>\n",
       "      <td>2005 Volkswagen Polo</td>\n",
       "      <td>InstantUnion.es</td>\n",
       "      <td>A-</td>\n",
       "      <td>197.3</td>\n",
       "      <td>89.7</td>\n",
       "      <td>5' 11\"</td>\n",
       "      <td>180</td>\n",
       "      <td>bff5a050-70d8-4c06-8a75-560b018e07f6</td>\n",
       "      <td>43.343168</td>\n",
       "      <td>-8.300582</td>\n",
       "    </tr>\n",
       "    <tr>\n",
       "      <th>4</th>\n",
       "      <td>5</td>\n",
       "      <td>male</td>\n",
       "      <td>Hispanic</td>\n",
       "      <td>Mr.</td>\n",
       "      <td>Baldo</td>\n",
       "      <td>K</td>\n",
       "      <td>Ayala</td>\n",
       "      <td>C/ Domingo Beltrán 15</td>\n",
       "      <td>San Pedro</td>\n",
       "      <td>AB</td>\n",
       "      <td>...</td>\n",
       "      <td>1999 Renault Grand Espace</td>\n",
       "      <td>StomachBlog.es</td>\n",
       "      <td>O+</td>\n",
       "      <td>197.8</td>\n",
       "      <td>89.9</td>\n",
       "      <td>6' 1\"</td>\n",
       "      <td>185</td>\n",
       "      <td>d61e4e78-e549-415d-ae98-2665950715af</td>\n",
       "      <td>38.745486</td>\n",
       "      <td>-2.204011</td>\n",
       "    </tr>\n",
       "  </tbody>\n",
       "</table>\n",
       "<p>5 rows × 45 columns</p>\n",
       "</div>"
      ],
      "text/plain": [
       "   Number  Gender   NameSet Title  GivenName MiddleInitial     Surname  \\\n",
       "0       1    male  Hispanic   Mr.       Ezio             S     Vanegas   \n",
       "1       2  female  Hispanic   Ms.  Katharina             J    Reséndez   \n",
       "2       3  female  Hispanic   Dr.     Tamara             K      Monroy   \n",
       "3       4    male  Hispanic   Mr.   Dunstano             E  Armendáriz   \n",
       "4       5    male  Hispanic   Mr.      Baldo             K       Ayala   \n",
       "\n",
       "               StreetAddress                   City State  ...  \\\n",
       "0      Ventanilla de Beas 48                  Alfoz    LU  ...   \n",
       "1  C/ Rosa de los Vientos 29  Alcalá de los Gazules    CA  ...   \n",
       "2       Plazuela do Porto 75              El Sauzal    TF  ...   \n",
       "3         Plaza de España 57                Tordoia     C  ...   \n",
       "4      C/ Domingo Beltrán 15              San Pedro    AB  ...   \n",
       "\n",
       "                     Vehicle             Domain BloodType Pounds Kilograms  \\\n",
       "0        2002 Vauxhall Agila      ParadeBlog.es        B+  150.0      68.2   \n",
       "1            2008 Ford F-450         EyeTint.es        B-  159.9      72.7   \n",
       "2             2005 Honda Fit  StyleValuation.es        B+  159.3      72.4   \n",
       "3       2005 Volkswagen Polo    InstantUnion.es        A-  197.3      89.7   \n",
       "4  1999 Renault Grand Espace     StomachBlog.es        O+  197.8      89.9   \n",
       "\n",
       "  FeetInches Centimeters                                  GUID   Latitude  \\\n",
       "0      5' 5\"         165  256e636c-da1f-43e4-826c-1e63def9b541  43.423958   \n",
       "1      5' 5\"         165  6569389e-63f3-4009-a138-647a449b47a3  36.322712   \n",
       "2      5' 3\"         161  b2269aa2-6178-4b29-9347-0c04ff7c6249  28.414627   \n",
       "3     5' 11\"         180  bff5a050-70d8-4c06-8a75-560b018e07f6  43.343168   \n",
       "4      6' 1\"         185  d61e4e78-e549-415d-ae98-2665950715af  38.745486   \n",
       "\n",
       "   Longitude  \n",
       "0  -7.303852  \n",
       "1  -6.161728  \n",
       "2 -16.373429  \n",
       "3  -8.300582  \n",
       "4  -2.204011  \n",
       "\n",
       "[5 rows x 45 columns]"
      ]
     },
     "metadata": {},
     "execution_count": 7
    }
   ],
   "metadata": {}
  },
  {
   "cell_type": "markdown",
   "source": [
    "# Creando objetos"
   ],
   "metadata": {}
  },
  {
   "cell_type": "code",
   "execution_count": null,
   "source": [
    "x = [1,2,3,4,5]"
   ],
   "outputs": [],
   "metadata": {}
  },
  {
   "cell_type": "code",
   "execution_count": null,
   "source": [
    "type(x)"
   ],
   "outputs": [],
   "metadata": {}
  },
  {
   "cell_type": "code",
   "execution_count": null,
   "source": [
    "y=[2,4,6,8,10]\r\n",
    "z = x + y\r\n",
    "print(z)\r\n",
    "type(z)"
   ],
   "outputs": [],
   "metadata": {}
  },
  {
   "cell_type": "code",
   "execution_count": null,
   "source": [
    "x = 5\r\n",
    "y = 2.15\r\n",
    "a = \"hola\""
   ],
   "outputs": [],
   "metadata": {}
  },
  {
   "cell_type": "markdown",
   "source": [
    "Para conocer sus tipos se usa `type()`"
   ],
   "metadata": {}
  },
  {
   "cell_type": "code",
   "execution_count": null,
   "source": [
    "type(x)"
   ],
   "outputs": [],
   "metadata": {}
  },
  {
   "cell_type": "code",
   "execution_count": null,
   "source": [
    "type(y)"
   ],
   "outputs": [],
   "metadata": {}
  },
  {
   "cell_type": "code",
   "execution_count": null,
   "source": [
    "type(a)"
   ],
   "outputs": [],
   "metadata": {}
  },
  {
   "cell_type": "markdown",
   "source": [
    "Creando una lista"
   ],
   "metadata": {}
  },
  {
   "cell_type": "code",
   "execution_count": 1,
   "source": [
    "mi_lista = [\"manzana\",\"naranja\",\"pera\",\"uva\"]\r\n",
    "print(mi_lista)"
   ],
   "outputs": [
    {
     "output_type": "stream",
     "name": "stdout",
     "text": [
      "['manzana', 'naranja', 'pera', 'uva']\n"
     ]
    }
   ],
   "metadata": {}
  },
  {
   "cell_type": "markdown",
   "source": [
    "Accediendo a sus elementos"
   ],
   "metadata": {}
  },
  {
   "cell_type": "markdown",
   "source": [
    "Primer elemento"
   ],
   "metadata": {}
  },
  {
   "cell_type": "code",
   "execution_count": 3,
   "source": [
    "mi_lista[1]\r\n"
   ],
   "outputs": [
    {
     "output_type": "execute_result",
     "data": {
      "text/plain": [
       "'naranja'"
      ]
     },
     "metadata": {},
     "execution_count": 3
    }
   ],
   "metadata": {}
  },
  {
   "cell_type": "markdown",
   "source": [
    "rango"
   ],
   "metadata": {}
  },
  {
   "cell_type": "code",
   "execution_count": 4,
   "source": [
    "mi_lista[0:2]\r\n"
   ],
   "outputs": [
    {
     "output_type": "execute_result",
     "data": {
      "text/plain": [
       "['manzana', 'naranja']"
      ]
     },
     "metadata": {},
     "execution_count": 4
    }
   ],
   "metadata": {}
  },
  {
   "cell_type": "markdown",
   "source": [
    "ultimos 2"
   ],
   "metadata": {}
  },
  {
   "cell_type": "code",
   "execution_count": 5,
   "source": [
    "mi_lista[2:]"
   ],
   "outputs": [
    {
     "output_type": "execute_result",
     "data": {
      "text/plain": [
       "['pera', 'uva']"
      ]
     },
     "metadata": {},
     "execution_count": 5
    }
   ],
   "metadata": {}
  },
  {
   "cell_type": "markdown",
   "source": [
    "# Métodos"
   ],
   "metadata": {}
  },
  {
   "cell_type": "markdown",
   "source": [
    "Las cadenas tambien tiene propiedades y métodos"
   ],
   "metadata": {}
  },
  {
   "cell_type": "code",
   "execution_count": 10,
   "source": [
    "a = \"hola mundo!\"\r\n",
    "a[0]\r\n"
   ],
   "outputs": [
    {
     "output_type": "execute_result",
     "data": {
      "text/plain": [
       "'h'"
      ]
     },
     "metadata": {},
     "execution_count": 10
    }
   ],
   "metadata": {}
  },
  {
   "cell_type": "markdown",
   "source": [
    "Convertir a mayúsculas"
   ],
   "metadata": {}
  },
  {
   "cell_type": "code",
   "execution_count": 11,
   "source": [
    "a.upper()"
   ],
   "outputs": [
    {
     "output_type": "execute_result",
     "data": {
      "text/plain": [
       "'HOLA MUNDO!'"
      ]
     },
     "metadata": {},
     "execution_count": 11
    }
   ],
   "metadata": {}
  }
 ],
 "metadata": {
  "interpreter": {
   "hash": "073345f9ec1f5efad5270eb54c91448412ce2e31836f5db7c2eb1906bd80c69c"
  },
  "kernelspec": {
   "name": "python3",
   "display_name": "Python 3.7.3 64-bit ('base': conda)"
  },
  "language_info": {
   "codemirror_mode": {
    "name": "ipython",
    "version": 3
   },
   "file_extension": ".py",
   "mimetype": "text/x-python",
   "name": "python",
   "nbconvert_exporter": "python",
   "pygments_lexer": "ipython3",
   "version": "3.7.3"
  }
 },
 "nbformat": 4,
 "nbformat_minor": 2
}