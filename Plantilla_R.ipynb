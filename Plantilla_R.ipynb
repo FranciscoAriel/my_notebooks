{
 "cells": [
  {
   "cell_type": "markdown",
   "metadata": {},
   "source": [
    "## Usando R desde Jupyter\n",
    "\n",
    "Previamente se debe instalar Anaconda y el kernel de R desde la consola de python.\n",
    "\n",
    "````\n",
    "pip install rpy2\n",
    "````\n",
    "\n",
    "Abrir un cuaderno de jupyter con kernel python y que la primer celda sea esta:"
   ]
  },
  {
   "cell_type": "code",
   "execution_count": 1,
   "metadata": {},
   "outputs": [
    {
     "name": "stderr",
     "output_type": "stream",
     "text": [
      "c:\\Users\\Francisco\\anaconda3\\lib\\site-packages\\rpy2\\robjects\\packages.py:366: UserWarning: The symbol 'quartz' is not in this R namespace/package.\n",
      "  warnings.warn(\n"
     ]
    }
   ],
   "source": [
    "%load_ext rpy2.ipython\n"
   ]
  },
  {
   "cell_type": "markdown",
   "metadata": {},
   "source": [
    "Listo, ya se puede usar R en cuadernos de jupyter.\n",
    "\n",
    "Siempre se debe iniciar con el magic `%%R` en la primer linea de cada celda y debajo código R."
   ]
  },
  {
   "cell_type": "code",
   "execution_count": 2,
   "metadata": {},
   "outputs": [
    {
     "name": "stdout",
     "output_type": "stream",
     "text": [
      "[1] 1 2 3\n"
     ]
    }
   ],
   "source": [
    "%%R\n",
    "x=c(1,2,3)\n",
    "x"
   ]
  },
  {
   "cell_type": "markdown",
   "metadata": {},
   "source": [
    "Se le pueden pasar objetos a R desde python.\n",
    "\n",
    "````\n",
    "%%R -i objeto\n",
    "````"
   ]
  },
  {
   "cell_type": "code",
   "execution_count": 9,
   "metadata": {},
   "outputs": [
    {
     "name": "stdout",
     "output_type": "stream",
     "text": [
      "<class 'pandas.core.frame.DataFrame'>\n",
      "RangeIndex: 3 entries, 0 to 2\n",
      "Data columns (total 2 columns):\n",
      " #   Column  Non-Null Count  Dtype\n",
      "---  ------  --------------  -----\n",
      " 0   x       3 non-null      int64\n",
      " 1   y       3 non-null      int64\n",
      "dtypes: int64(2)\n",
      "memory usage: 176.0 bytes\n"
     ]
    }
   ],
   "source": [
    "import pandas as pa\n",
    "\n",
    "dic = {\"x\": [1,2,3],\"y\": [2,4,6]}\n",
    "datos = pa.DataFrame(dic)\n",
    "datos.info()"
   ]
  },
  {
   "cell_type": "code",
   "execution_count": 10,
   "metadata": {},
   "outputs": [
    {
     "name": "stdout",
     "output_type": "stream",
     "text": [
      "'data.frame':\t3 obs. of  2 variables:\n",
      " $ x: int  1 2 3\n",
      " $ y: int  2 4 6\n"
     ]
    }
   ],
   "source": [
    "%%R -i datos\n",
    "str(datos)"
   ]
  }
 ],
 "metadata": {
  "kernelspec": {
   "display_name": "Python 3.9.7 ('base')",
   "language": "python",
   "name": "python3"
  },
  "language_info": {
   "codemirror_mode": {
    "name": "ipython",
    "version": 3
   },
   "file_extension": ".py",
   "mimetype": "text/x-python",
   "name": "python",
   "nbconvert_exporter": "python",
   "pygments_lexer": "ipython3",
   "version": "3.9.7"
  },
  "orig_nbformat": 4,
  "vscode": {
   "interpreter": {
    "hash": "ef0d3eaac19d23329443f0a69b97848fe637555c69428bc3ab1c9815d9c7cd6d"
   }
  }
 },
 "nbformat": 4,
 "nbformat_minor": 2
}
