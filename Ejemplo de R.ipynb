{
 "cells": [
  {
   "cell_type": "markdown",
   "id": "79de46bd",
   "metadata": {},
   "source": [
    "## Ejemplo en R"
   ]
  },
  {
   "cell_type": "markdown",
   "id": "13a208ad",
   "metadata": {},
   "source": [
    "Leyendo datos desde R"
   ]
  },
  {
   "cell_type": "code",
   "execution_count": 1,
   "id": "d2385c45",
   "metadata": {},
   "outputs": [],
   "source": [
    "datos=read.csv(\"census.csv\")"
   ]
  },
  {
   "cell_type": "markdown",
   "id": "ba9c656d",
   "metadata": {},
   "source": [
    "Conocer las propiedades del dataset"
   ]
  },
  {
   "cell_type": "code",
   "execution_count": 2,
   "id": "7ddae0f5",
   "metadata": {},
   "outputs": [
    {
     "data": {
      "text/html": [
       "<ol class=list-inline>\n",
       "\t<li>'age'</li>\n",
       "\t<li>'workclass'</li>\n",
       "\t<li>'fnlwgt'</li>\n",
       "\t<li>'education'</li>\n",
       "\t<li>'education_num'</li>\n",
       "\t<li>'marital_status'</li>\n",
       "\t<li>'occupation'</li>\n",
       "\t<li>'relationship'</li>\n",
       "\t<li>'race'</li>\n",
       "\t<li>'sex'</li>\n",
       "\t<li>'capital_gain'</li>\n",
       "\t<li>'capital_loss'</li>\n",
       "\t<li>'hours'</li>\n",
       "\t<li>'native_country'</li>\n",
       "\t<li>'income'</li>\n",
       "</ol>\n"
      ],
      "text/latex": [
       "\\begin{enumerate*}\n",
       "\\item 'age'\n",
       "\\item 'workclass'\n",
       "\\item 'fnlwgt'\n",
       "\\item 'education'\n",
       "\\item 'education\\_num'\n",
       "\\item 'marital\\_status'\n",
       "\\item 'occupation'\n",
       "\\item 'relationship'\n",
       "\\item 'race'\n",
       "\\item 'sex'\n",
       "\\item 'capital\\_gain'\n",
       "\\item 'capital\\_loss'\n",
       "\\item 'hours'\n",
       "\\item 'native\\_country'\n",
       "\\item 'income'\n",
       "\\end{enumerate*}\n"
      ],
      "text/markdown": [
       "1. 'age'\n",
       "2. 'workclass'\n",
       "3. 'fnlwgt'\n",
       "4. 'education'\n",
       "5. 'education_num'\n",
       "6. 'marital_status'\n",
       "7. 'occupation'\n",
       "8. 'relationship'\n",
       "9. 'race'\n",
       "10. 'sex'\n",
       "11. 'capital_gain'\n",
       "12. 'capital_loss'\n",
       "13. 'hours'\n",
       "14. 'native_country'\n",
       "15. 'income'\n",
       "\n",
       "\n"
      ],
      "text/plain": [
       " [1] \"age\"            \"workclass\"      \"fnlwgt\"         \"education\"     \n",
       " [5] \"education_num\"  \"marital_status\" \"occupation\"     \"relationship\"  \n",
       " [9] \"race\"           \"sex\"            \"capital_gain\"   \"capital_loss\"  \n",
       "[13] \"hours\"          \"native_country\" \"income\"        "
      ]
     },
     "metadata": {},
     "output_type": "display_data"
    }
   ],
   "source": [
    "names(datos)"
   ]
  },
  {
   "cell_type": "code",
   "execution_count": 3,
   "id": "7fcd96ad",
   "metadata": {},
   "outputs": [
    {
     "data": {
      "text/html": [
       "'list'"
      ],
      "text/latex": [
       "'list'"
      ],
      "text/markdown": [
       "'list'"
      ],
      "text/plain": [
       "[1] \"list\""
      ]
     },
     "metadata": {},
     "output_type": "display_data"
    }
   ],
   "source": [
    "typeof(datos)"
   ]
  },
  {
   "cell_type": "markdown",
   "id": "4da1cac0",
   "metadata": {},
   "source": [
    "Tabla descriptiva"
   ]
  },
  {
   "cell_type": "code",
   "execution_count": 6,
   "id": "94854c5d",
   "metadata": {},
   "outputs": [
    {
     "data": {
      "text/plain": [
       "\n",
       " <=50K   >50K \n",
       " 24720   7841 "
      ]
     },
     "metadata": {},
     "output_type": "display_data"
    }
   ],
   "source": [
    "table(datos$income)"
   ]
  },
  {
   "cell_type": "markdown",
   "id": "7cffa417",
   "metadata": {},
   "source": [
    "Gráfico en R"
   ]
  },
  {
   "cell_type": "code",
   "execution_count": 7,
   "id": "6e06b47e",
   "metadata": {},
   "outputs": [
    {
     "data": {
      "image/png": "[encoded data removed]",
      "text/plain": [
       "plot without title"
      ]
     },
     "metadata": {},
     "output_type": "display_data"
    }
   ],
   "source": [
    "plot(datos$income)"
   ]
  },
  {
   "cell_type": "code",
   "execution_count": null,
   "id": "16b28912",
   "metadata": {},
   "outputs": [],
   "source": []
  }
 ],
 "metadata": {
  "kernelspec": {
   "display_name": "R",
   "language": "R",
   "name": "ir"
  },
  "language_info": {
   "codemirror_mode": "r",
   "file_extension": ".r",
   "mimetype": "text/x-r-source",
   "name": "R",
   "pygments_lexer": "r",
   "version": "3.6.1"
  }
 },
 "nbformat": 4,
 "nbformat_minor": 5
}
